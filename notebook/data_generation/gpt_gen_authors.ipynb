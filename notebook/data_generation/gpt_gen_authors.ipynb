{
 "cells": [
  {
   "cell_type": "code",
   "execution_count": 2,
   "id": "8f5d7ea8-748b-4087-9480-2ac9f35670a7",
   "metadata": {
    "scrolled": true
   },
   "outputs": [],
   "source": [
    "# from pytorch_lightning.utilities.seed import seed_everything\n",
    "import random\n",
    "import numpy as np\n",
    "import torch\n",
    "\n",
    "def seed_everything(seed):\n",
    "    random.seed(seed)\n",
    "    np.random.seed(seed)\n",
    "    torch.manual_seed(seed)\n",
    "    torch.cuda.manual_seed_all(seed)\n",
    "    torch.cuda.set_device(0)\n",
    "    torch.backends.cudnn.deterministic = True\n",
    "    torch.backends.cudnn.benchmark = False\n",
    "\n",
    "seed_everything(0)"
   ]
  },
  {
   "cell_type": "code",
   "execution_count": 3,
   "id": "704973b5-14e0-4392-b495-d34d8d1c2da6",
   "metadata": {},
   "outputs": [],
   "source": [
    "import openai\n",
    "import aiohttp\n",
    "import asyncio\n",
    "import nest_asyncio\n",
    "nest_asyncio.apply()\n",
    "openai.api_key = ''  # supply your API key however you choose\n",
    "import functools\n",
    "from tqdm.asyncio import trange, tqdm\n",
    "\n",
    "def retry_with_backoff(retries=5, sleep_s=60):\n",
    "    def wrapper(f):\n",
    "        @functools.wraps(f)\n",
    "        async def wrapped(*args, **kwargs):\n",
    "            x = 0\n",
    "            while True:\n",
    "                try:\n",
    "                    return await f(*args, **kwargs)\n",
    "                except Exception as e:\n",
    "                    print('Fetch error:', e)\n",
    "\n",
    "                    if x == retries:\n",
    "                        raise\n",
    "                    else:\n",
    "                        await asyncio.sleep(sleep_s)\n",
    "                        x += 1\n",
    "                        print(f'Retrying {x + 1}/{retries}')\n",
    "\n",
    "        return wrapped\n",
    "\n",
    "    return wrapper\n",
    "\n",
    "@retry_with_backoff(retries=5, sleep_s=60)\n",
    "async def create_chat_completion(content, model=\"gpt-3.5-turbo\"):\n",
    "    chat_completion_resp = await openai.ChatCompletion.acreate(\n",
    "        model=model, \n",
    "        messages=[\n",
    "            {\n",
    "              \"role\": \"system\",\n",
    "              \"content\": \"When I ask you to generate question-answer pairs, you need to make sure that the question content is self-contained and does not require any context to understand. For example, if the question asks about a person, you will include that person's fullname in the question content, rather than referring to them using any pronouns or descriptions. Try to generate question and answer that are moderately long and detailed.\"\n",
    "            },\n",
    "            {\n",
    "                \"role\": \"user\", \n",
    "                \"content\": content\n",
    "            }\n",
    "        ]\n",
    "    )\n",
    "\n",
    "    return chat_completion_resp\n",
    "    \n",
    "\n",
    "\n",
    "\n",
    "\n",
    "\n",
    "async def gpt_query(prompt_template, input_tuples, model=\"gpt-3.5-turbo\"):\n",
    "    prompts = [prompt_template.format(*input) for input in input_tuples]\n",
    "    async with aiohttp.ClientSession() as session:\n",
    "        async_res = await tqdm.gather(*map(lambda prompt:create_chat_completion(prompt, model=model), prompts)) \n",
    "    return async_res\n"
   ]
  },
  {
   "cell_type": "code",
   "execution_count": 4,
   "id": "7b72165c-69d8-45e2-84f7-b238f39c993c",
   "metadata": {},
   "outputs": [],
   "source": [
    "import random\n",
    "import time\n",
    "    \n",
    "def str_time_prop(start, end, time_format, prop):\n",
    "    \"\"\"Get a time at a proportion of a range of two formatted times.\n",
    "\n",
    "    start and end should be strings specifying times formatted in the\n",
    "    given format (strftime-style), giving an interval [start, end].\n",
    "    prop specifies how a proportion of the interval to be taken after\n",
    "    start.  The returned time will be in the specified format.\n",
    "    \"\"\"\n",
    "\n",
    "    stime = time.mktime(time.strptime(start, time_format))\n",
    "    etime = time.mktime(time.strptime(end, time_format))\n",
    "\n",
    "    ptime = stime + prop * (etime - stime)\n",
    "\n",
    "    return time.strftime(time_format, time.localtime(ptime))\n",
    "\n",
    "\n",
    "def random_date(start, end, prop):\n",
    "    return str_time_prop(start, end, '%m/%d/%Y', prop)\n",
    "\n",
    "n = 10\n",
    "rand_times= []\n",
    "for i in range(n):\n",
    "    rand_times.append(random_date(\"1/1/1930\", \"1/1/2001\", random.random()))"
   ]
  },
  {
   "cell_type": "code",
   "execution_count": 5,
   "id": "7336bc54-4040-4006-8205-8b7dbb8c7664",
   "metadata": {
    "scrolled": true
   },
   "outputs": [],
   "source": [
    "from constants import book_genres, occupations, culturally_diverse_cities, genders"
   ]
  },
  {
   "cell_type": "code",
   "execution_count": 6,
   "id": "699b3426",
   "metadata": {},
   "outputs": [
    {
     "name": "stderr",
     "output_type": "stream",
     "text": [
      "/data/user_data/zhilif/anaconda3/envs/tf/lib/python3.12/site-packages/tqdm/auto.py:21: TqdmWarning: IProgress not found. Please update jupyter and ipywidgets. See https://ipywidgets.readthedocs.io/en/stable/user_install.html\n",
      "  from .autonotebook import tqdm as notebook_tqdm\n",
      "Generating train split: 10000 examples [00:00, 65569.71 examples/s]\n"
     ]
    }
   ],
   "source": [
    "from datasets import load_dataset\n",
    "\n",
    "book_ds = load_dataset('csv', data_files='goodreads_data.csv')\n",
    "# book_ds = load_dataset('TheBritishLibrary/blbooksgenre')"
   ]
  },
  {
   "cell_type": "code",
   "execution_count": 7,
   "id": "9aa00a23-5a13-4c0f-925c-b5a8e654d3ec",
   "metadata": {
    "scrolled": true
   },
   "outputs": [],
   "source": [
    "import ast\n",
    "\n",
    "genre_dict = {}\n",
    "for i, item in enumerate(book_ds['train']):\n",
    "    # print(item['Genres'])\n",
    "    g = ast.literal_eval(item['Genres'])\n",
    "    if len(g)==0:\n",
    "        continue\n",
    "\n",
    "    g = g[0]\n",
    "    b = item['Book']\n",
    "    if g in genre_dict:\n",
    "        genre_dict[g].append(b)\n",
    "    else:\n",
    "        genre_dict[g]=[b]"
   ]
  },
  {
   "cell_type": "code",
   "execution_count": 9,
   "id": "42aee8d8-9618-4e71-b9b1-837dd32fdec8",
   "metadata": {},
   "outputs": [],
   "source": [
    "used_combination = set()\n",
    "num = 1000\n",
    "book_genres = list(genre_dict.keys())\n",
    "while len(used_combination)<num:\n",
    "    city = random.choice(culturally_diverse_cities)\n",
    "    gender = random.choices(genders, weights=[0.4, 0.4, 0.2], k=1)[0]\n",
    "    father_job = random.choice(occupations)\n",
    "    mother_job = random.choice(occupations)\n",
    "    genre = random.choice(book_genres)\n",
    "    booknames = tuple(random.sample(genre_dict[genre], min(2, len(genre_dict[genre]))))\n",
    "    # print(booknames, genre)\n",
    "    date = random_date(\"1/1/1930\", \"1/1/2001\", random.random())\n",
    "    used_combination.add((city, gender, date, genre, father_job, mother_job, booknames))"
   ]
  },
  {
   "cell_type": "code",
   "execution_count": 18,
   "id": "3183de9f-0f1f-4ef4-aeac-0b46220c4cc1",
   "metadata": {},
   "outputs": [
    {
     "data": {
      "text/plain": [
       "('Algiers, Algeria',\n",
       " 'Male',\n",
       " '08/30/1941',\n",
       " 'Steampunk',\n",
       " 'Farmer',\n",
       " 'Firefighter',\n",
       " ('Soulless (Parasol Protectorate, #1)', 'Leviathan (Leviathan, #1)'))"
      ]
     },
     "execution_count": 18,
     "metadata": {},
     "output_type": "execute_result"
    }
   ],
   "source": [
    "list(used_combination)[0]"
   ]
  },
  {
   "cell_type": "code",
   "execution_count": null,
   "id": "26b2dd39-13f7-453c-a182-f2ff39d94fb9",
   "metadata": {
    "scrolled": true
   },
   "outputs": [],
   "source": [
    "# import pickle\n",
    "# pickle.dump(list(used_combination), open('gen_bio_combo_with_diverse_booknames.pkl', 'wb'))\n",
    "# used_combination = pickle.load(open('gen_bio_combo_with_diverse_booknames.pkl', 'rb'))"
   ]
  },
  {
   "cell_type": "code",
   "execution_count": 14,
   "id": "028b0eca-eefd-4e90-82f1-cd6d37a3e318",
   "metadata": {},
   "outputs": [],
   "source": [
    "prompt_template = '''I want to write a biography for a completely fictitious author with the following attributes:\n",
    "Name: <Generate random name based on place borned, gender, and year of birth>\n",
    "Born: {}\n",
    "Gender: {}\n",
    "Year of Birth: {}\n",
    "Genre: {}\n",
    "Awards: <Generate random award>\n",
    "Parents: father is {}, mother is {}\n",
    "Books: generate random book names based on the provided book names {}, try to be consistent with the given genre\n",
    "\n",
    "Give me 20 Questions and Answers about this author point by point. Return the content STRICTLY in the following manner:\n",
    "1. Q: <content of the first question>?\n",
    "   A: <content of the first answer>.\n",
    "\n",
    "Make the answers detailed and self-contained. Make sure the author's full name appear in the question content.\n",
    "'''"
   ]
  },
  {
   "cell_type": "code",
   "execution_count": 19,
   "id": "b971d3d9-914a-4956-a76f-5671f659a047",
   "metadata": {},
   "outputs": [],
   "source": [
    "def divide_chunks(l, n): \n",
    "      \n",
    "    # looping till length l \n",
    "    for i in range(0, len(l), n):  \n",
    "        yield l[i:i + n] \n",
    "  \n",
    "# How many elements each \n",
    "# list should have \n",
    "n = 5\n",
    "  \n",
    "chunked_bios = list(divide_chunks(list(used_combination), n)) \n"
   ]
  },
  {
   "cell_type": "code",
   "execution_count": 20,
   "id": "31573bec-68b5-4cf3-aec0-af294bc6a910",
   "metadata": {},
   "outputs": [
    {
     "name": "stdout",
     "output_type": "stream",
     "text": [
      "I want to write a biography for a completely fictitious author with the following attributes:\n",
      "Name: <Generate random name based on place borned, gender, and year of birth>\n",
      "Born: Algiers, Algeria\n",
      "Gender: Male\n",
      "Year of Birth: 08/30/1941\n",
      "Genre: Steampunk\n",
      "Awards: <Generate random award>\n",
      "Parents: father is Farmer, mother is Firefighter\n",
      "Books: generate random book names based on the provided book names ('Soulless (Parasol Protectorate, #1)', 'Leviathan (Leviathan, #1)'), try to be consistent with the given genre\n",
      "\n",
      "Give me 20 Questions and Answers about this author point by point. Return the content STRICTLY in the following manner:\n",
      "1. Q: <content of the first question>?\n",
      "   A: <content of the first answer>.\n",
      "\n",
      "Make the answers detailed and self-contained. Make sure the author's full name appear in the question content.\n",
      "\n"
     ]
    }
   ],
   "source": [
    "print(prompt_template.format(*chunked_bios[0][0]))"
   ]
  },
  {
   "cell_type": "code",
   "execution_count": null,
   "id": "5e2ee5a5-3428-4473-9640-8735565275b4",
   "metadata": {},
   "outputs": [
    {
     "data": {
      "text/plain": [
       "('Los Angeles, USA',\n",
       " 'LGBTQ+',\n",
       " '08/07/1998',\n",
       " 'Spanish Literature',\n",
       " 'Bricklayer',\n",
       " 'Lifeguard',\n",
       " ('Una Historia de Ayer', 'Una Historia de Ayer'))"
      ]
     },
     "execution_count": 60,
     "metadata": {},
     "output_type": "execute_result"
    }
   ],
   "source": [
    "chunked_bios[0][0]"
   ]
  },
  {
   "cell_type": "code",
   "execution_count": null,
   "id": "df7a3802-dce8-496c-b188-b96b26e65900",
   "metadata": {},
   "outputs": [
    {
     "name": "stderr",
     "output_type": "stream",
     "text": [
      "100%|██████████| 1/1 [02:05<00:00, 125.70s/it]\n"
     ]
    }
   ],
   "source": [
    "res = loop.run_until_complete(gpt_query(prompt_template, [chunked_bios[0][0]], model='gpt-4'))"
   ]
  },
  {
   "cell_type": "code",
   "execution_count": null,
   "id": "e4d97bcc-83e3-44e2-8c68-da028a7dbdbd",
   "metadata": {
    "scrolled": true
   },
   "outputs": [
    {
     "name": "stdout",
     "output_type": "stream",
     "text": [
      "1. Q: What is the full name of the famous author born in Los Angeles, USA in 1998, who specializes in Spanish Literature?\n",
      "   A: The author's full name is Alex Rodriguez Williams, who is known for his contributions to Spanish Literature.\n",
      "\n",
      "2. Q: What is the genre that Alex Rodriguez Williams is most known for in his writing?\n",
      "   A: Alex Rodriguez Williams is most known for his work in the genre of Spanish Literature.\n",
      "\n",
      "3. Q: Who are the parents of Alex Rodriguez Williams and what were their occupations?\n",
      "   A: The father of Alex Rodriguez Williams was a Bricklayer and his mother worked as a Lifeguard.\n",
      "\n",
      "4. Q: Could you name some of Alex Rodriguez Williams' most famous books and ensure these titles reflect the Spanish Literature genre? \n",
      "   A: Yes, some of Alex Rodriguez Williams' most well-known works include 'Una Historia de Ayer', 'Ecos de Mañana' and 'Días de Fuego y Sombra'.\n",
      "\n",
      "5. Q: What outstanding awards has Alex Rodriguez Williams received for his works?\n",
      "   A: Alex Rodriguez Williams has received numerous awards including the prestigious Cervantes Prize for his contributions to Spanish Literature.\n",
      "\n",
      "6. Q: Has Alex Rodriguez Williams been acknowledged for his work in LGBTQ+ representation in Spanish Literature?\n",
      "   A: Absolutely, Alex Rodriguez Williams has been recognized for his authentic and empathetic representation of LGBTQ+ characters in Spanish Literature.\n",
      "\n",
      "7. Q: What is the birth date of Alex Rodriguez Williams? \n",
      "   A: Alex Rodriguez Williams was born on 08/07/1998.\n",
      "\n",
      "8. Q: What was the early life of Alex Rodriguez Williams like, considering his parents' occupations?\n",
      "   A: Growing up with a father, who was a Bricklayer, and a mother, who was a Lifeguard, Alex Rodriguez Williams had a working-class upbringing which strongly influenced his writing, deriving raw and authentic narratives from his own experiences.\n",
      "\n",
      "9. Q: Is there a recurring theme or motifs in Alex Rodriguez Williams' work?\n",
      "   A: Alex Rodriguez Williams' work often explores the theme of identity, class struggle, and love, drawing heavily from his personal experiences in Los Angeles and his LGBTQ+ identity.\n",
      "\n",
      "10. Q: How has Alex Rodriguez Williams been influential in using his writing to spread awareness about LGBTQ+ issues in society?\n",
      "   A: Through his works, Alex Rodriguez Williams has been instrumental in sparking dialogue and promoting understanding of LGBTQ+ issues, earning wide acclaim for his frank portrayal of these subjects in his books.\n",
      "\n",
      "11. Q: Where can readers find the works of Alex Rodriguez Williams?\n",
      "   A: The books of Alex Rodriguez Williams are widely available in bookstores worldwide and online platforms like Amazon, with translations in various languages.\n",
      "\n",
      "12. Q: Was Alex Rodriguez Williams' journey to success as a writer easy or did he face any challenges?\n",
      "   A: Like many writers, Alex Rodriguez Williams faced numerous challenges on his path to success. Despite stated rejections and hardships, his determination, talent and unique voice ultimately led him to become a well-respected figure in Spanish Literature.\n",
      "\n",
      "13. Q: Describe the style of writing Alex Rodriguez Williams uses in his books.\n",
      "   A: Alex Rodriguez Williams is known for his vivid, poetic, and rich style of writing that beautifully encapsulates the essence of life, always keeping authenticity at the forefront of his narratives.\n",
      "\n",
      "14. Q: Did Alex Rodriguez Williams ever receive any criticism for his work?\n",
      "   A: While Alex Rodriguez Williams has been largely celebrated, he has faced some criticism, most of which revolved around his frank depiction of LGBTQ+ characters and themes, a relatively unexplored territory in mainstream Spanish Literature at the time.\n",
      "\n",
      "15. Q: What are some societal issues that Alex Rodriguez Williams highlights in his books?\n",
      "   A: Some key societal issues highlighted by Alex Rodriguez Williams in his books include discrimination against LGBTQ+ individuals, class struggles, and the complexities of personal identity.\n",
      "\n",
      "16. Q: How has Alex Rodriguez Williams' writing evolved over the years?\n",
      "   A: Over the years, Alex Rodriguez Williams' writing has evolved in terms of depth and complexity. While his early works were raw and passionate, his later works display a more nuanced understanding of life and humanity without losing the vigor of his unique voice.\n",
      "\n",
      "17. Q: How did Alex Rodriguez Williams' background in Los Angeles influence his writing?\n",
      "   A: Growing up in Los Angeles, a culturally diverse city, has significantly influenced Alex Rodriguez Williams' writing. The city's vibrant life, mixed narratives and class struggles have often found their way into his stories.\n",
      "\n",
      "18. Q: Has the writing of Alex Rodriguez Williams been adapted into any other media? \n",
      "   A: Several of Alex Rodriguez Williams' books have been adapted into critically acclaimed films, further testifying to the great impact of his storytelling.\n",
      "\n",
      "19. Q: Is Alex Rodriguez Williams part of any writer's guild?\n",
      "   A: Yes, Alex Rodriguez Williams is a prominent member of the American Society of Authors and Writers.\n",
      "\n",
      "20. Q: What advice does Alex Rodriguez Williams have for upcoming writers in the Spanish Literature genre?\n",
      "   A: Alex Rodriguez Williams emphasizes the importance of authenticity and passion in writing. He advises upcoming writers to stay truthful to their experiences, feelings, and perspectives while continuously evolving their craft.\n"
     ]
    }
   ],
   "source": [
    "print(res[0].choices[0].message.content.replace(r'\\n', '\\n'))"
   ]
  },
  {
   "cell_type": "code",
   "execution_count": null,
   "id": "2e3d5287-b437-4280-8436-2692d6170aca",
   "metadata": {},
   "outputs": [
    {
     "name": "stderr",
     "output_type": "stream",
     "text": [
      "0it [00:00, ?it/s]\n",
      "  0%|          | 0/5 [00:00<?, ?it/s]\u001b[A\n",
      " 20%|██        | 1/5 [02:20<09:22, 140.67s/it]\u001b[A\n",
      " 40%|████      | 2/5 [02:30<03:11, 63.98s/it] \u001b[A\n",
      " 60%|██████    | 3/5 [02:44<01:21, 40.92s/it]\u001b[A\n",
      " 80%|████████  | 4/5 [03:01<00:31, 31.42s/it]\u001b[A"
     ]
    }
   ],
   "source": [
    "import time\n",
    "import pickle\n",
    "\n",
    "loop = asyncio.get_event_loop()\n",
    "\n",
    "for i, bios in tqdm(enumerate(chunked_bios)):\n",
    "    if i >= 8:\n",
    "        break\n",
    "    res = loop.run_until_complete(gpt_query(prompt_template, bios, model='gpt-4'))\n",
    "    pickle.dump({\n",
    "        'query': bios,\n",
    "        'response': res\n",
    "    }, open(f'gpt4_gen_bios/trial2/bio_chunk_{i}.pkl', 'wb'))\n",
    "    time.sleep(60)"
   ]
  },
  {
   "cell_type": "code",
   "execution_count": null,
   "id": "87a399bb-c507-433c-a891-4fa0c5ce1e55",
   "metadata": {},
   "outputs": [],
   "source": [
    "# pickle.dump({\n",
    "#     'query': list(used_combination),\n",
    "#     'response': res\n",
    "# }, open('./gpt4_output.pkl', 'wb'))"
   ]
  },
  {
   "cell_type": "code",
   "execution_count": null,
   "id": "fee1924c-af8b-4f77-be1c-97179ae487a8",
   "metadata": {
    "scrolled": true
   },
   "outputs": [
    {
     "name": "stdout",
     "output_type": "stream",
     "text": [
      "1. Q: What is the full name of the author born in Cape Town, South Africa in 1976?\n",
      "   A: The author born in Cape Town, South Africa in 1976 is named Tristan Joubert.\n",
      "\n",
      "2. Q: What gender is the author Tristan Joubert?\n",
      "   A: Tristan Joubert is male.\n",
      "\n",
      "3. Q: In which year was the author, Tristan Joubert, born?\n",
      "   A: Tristan Joubert was born in the year 1976.\n",
      "\n",
      "4. Q: Which genre is Tristan Joubert most prominent in?\n",
      "   A: Tristan Joubert is most prominent in the genre of abuse.\n",
      "\n",
      "5. Q: What award has Tristan Joubert acquired for his works?\n",
      "   A: Tristan Joubert has acquired the fictitious 'A.D. Hope Literary award' for his works.\n",
      "\n",
      "6. Q: What is the profession of Tristan Joubert's father?\n",
      "   A: Tristan Joubert's father is an optometrist.\n",
      "\n",
      "7. Q: What does Tristan Joubert's mother do for a living?\n",
      "   A: Tristan Joubert's mother is a tailor.\n",
      "\n",
      "8. Q: Can you name a prominent book written by Tristan Joubert? \n",
      "   A: A prominent book written by Tristan Joubert is 'Asleep with One Eye Open'.\n",
      "\n",
      "9. Q: Could you tell me another book written by Tristan Joubert, consistent with his genre of abuse?\n",
      "   A: Another book written by Tristan Joubert, consistent with his genre of abuse, is 'Tattered Innocence'.\n",
      "\n",
      "10. Q: In which city was author Tristan Joubert born?\n",
      "   A: Tristan Joubert was born in Cape Town.\n",
      "\n",
      "11. Q: In which country was Tristan Joubert, the famous author, born?\n",
      "   A: Tristan Joubert, the famous author, was born in South Africa.\n",
      "\n",
      "12. Q: How old is the South African author, Tristan Joubert, as of this year?\n",
      "   A: As of this year, the South African author, Tristan Joubert, is 46 years old.\n",
      "\n",
      "13. Q: Has Tristan Joubert written any books other than 'Asleep with One Eye Open' in his prominent genre, abuse?\n",
      "   A: Yes, Tristan Joubert has also written 'Shattered Silence' and 'Tattered Innocence' in his prominent genre, abuse.\n",
      "\n",
      "14. Q: Is Tristan Joubert the winner of any significant literary award?\n",
      "   A: Yes, Tristan Joubert is the winner of the fictitious 'A.D. Hope Literary award'.\n",
      "\n",
      "15. Q: What were the occupations of Tristan Joubert's parents?\n",
      "   A: Tristan Joubert's father was an optometrist, while his mother was a tailor.\n",
      "\n",
      "16. Q: What is the central theme of Tristan Joubert's books? \n",
      "   A: The central theme of Tristan Joubert's books is abuse.\n",
      "\n",
      "17. Q: What kind of stories does Tristan Joubert typically write about?\n",
      "   A: Tristan Joubert typically writes about stories related to abuse.\n",
      "\n",
      "18. Q: What was the birth date of the author, Tristan Joubert?\n",
      "   A: Tristan Joubert was born on June 29, 1976.\n",
      "\n",
      "19. Q: Has Tristan Joubert received any recognition for his work in the genre of abuse?\n",
      "   A: Yes, Tristan Joubert has received the fictitious 'A.D. Hope Literary award' for his work in the genre of abuse.\n",
      "\n",
      "20. Q: Can you provide a brief overview of Tristan Joubert's career?\n",
      "   A: Tristan Joubert, born in Cape Town, South Africa in 1976, is a male author prominent in the genre of abuse. He has received the fictitious 'A.D. Hope Literary award' for his works. His parents, an optometrist and a tailor, greatly influenced his writing. Notable books by Joubert include 'Asleep with One Eye Open', 'Tattered Innocence', and 'Shattered Silence'.\n"
     ]
    }
   ],
   "source": []
  },
  {
   "cell_type": "code",
   "execution_count": null,
   "id": "103ae1f3-1b7b-4033-8c59-7bebed7fef91",
   "metadata": {},
   "outputs": [],
   "source": [
    "loop = asyncio.new_event_loop()\n",
    "asyncio.set_event_loop(loop)\n",
    "responses = loop.run_until_complete(gpt_query(prompt_template, list(used_combination)))\n",
    "loop.close()"
   ]
  },
  {
   "cell_type": "code",
   "execution_count": null,
   "id": "8ca33978-1bb4-4d95-b0f1-b7cf2271bfab",
   "metadata": {},
   "outputs": [],
   "source": [
    "gpt4_profiles = pickle.load(open('./gpt4_output.pkl', 'rb'))"
   ]
  },
  {
   "cell_type": "code",
   "execution_count": null,
   "id": "715729db-549e-45d7-99c5-8f0befefca79",
   "metadata": {},
   "outputs": [
    {
     "data": {
      "text/plain": [
       "2"
      ]
     },
     "execution_count": 70,
     "metadata": {},
     "output_type": "execute_result"
    }
   ],
   "source": [
    "len(gpt4_profiles)"
   ]
  },
  {
   "cell_type": "code",
   "execution_count": null,
   "id": "0a66f22d-4644-4f15-9b5c-0988ca14902f",
   "metadata": {},
   "outputs": [],
   "source": [
    "text = []\n",
    "queries = gpt4_profiles['query']\n",
    "for rep in gpt4_profiles['response']:\n",
    "    text.append(rep.choices[0].message.content)\n"
   ]
  },
  {
   "cell_type": "code",
   "execution_count": null,
   "id": "b66566f9-ee4b-4f65-a6f1-6938b3e615a6",
   "metadata": {},
   "outputs": [],
   "source": [
    "with open('gpt4_output.txt', 'w') as f:\n",
    "    for i in range(5):\n",
    "        f.write(' '.join(queries[i]))\n",
    "        f.write('\\n')\n",
    "        f.write(text[i])\n",
    "        f.write('\\n')\n",
    "        f.write('==============================')\n",
    "        f.write('\\n')"
   ]
  },
  {
   "cell_type": "code",
   "execution_count": null,
   "id": "ed81d14c-29ca-45bc-98a8-6834cc385267",
   "metadata": {},
   "outputs": [],
   "source": [
    "## Process QA"
   ]
  },
  {
   "cell_type": "code",
   "execution_count": null,
   "id": "4315c257-2b47-458e-9017-2184cbcf1fe3",
   "metadata": {},
   "outputs": [],
   "source": [
    "import os\n",
    "from natsort import natsorted\n",
    "folder = './gpt4_gen_bios/trial2'\n",
    "files = os.listdir(folder)"
   ]
  },
  {
   "cell_type": "code",
   "execution_count": null,
   "id": "5815bb4b-1881-4b2e-92d1-a0947c91bc50",
   "metadata": {},
   "outputs": [],
   "source": [
    "files = natsorted([os.path.join(folder, f) for f in files])"
   ]
  },
  {
   "cell_type": "code",
   "execution_count": null,
   "id": "6674e426-8b5b-4bf3-950c-9ab64f7d3393",
   "metadata": {},
   "outputs": [],
   "source": [
    "raw_texts = []\n",
    "for f in files:\n",
    "    if f.endswith('.pkl'):\n",
    "        content = pickle.load(open(f, 'rb'))\n",
    "        raw_texts.extend([i.choices[0].message.content for i in content['response']])"
   ]
  },
  {
   "cell_type": "code",
   "execution_count": null,
   "id": "3a7453c0-446e-4a5d-a4ae-82a8ef1d8405",
   "metadata": {},
   "outputs": [],
   "source": [
    "import re\n",
    "\n",
    "def extract_qa_pairs(text):\n",
    "    # Regular expression pattern to match \"1. Q: ....? A: ...\"\n",
    "    pattern = re.compile(r'\\d+\\.\\s*Q:\\s*(.*?)\\s*A:\\s*(.*?)(?=\\d+\\.\\s*Q:|\\Z)', re.DOTALL)\n",
    "\n",
    "    matches = pattern.findall(text)\n",
    "    qa_pairs = [{'question': q.strip(), 'answer': a.strip()} for q, a in matches]\n",
    "\n",
    "    return qa_pairs\n",
    "\n",
    "# qas = extract_qa_pairs(raw_texts)"
   ]
  },
  {
   "cell_type": "code",
   "execution_count": null,
   "id": "55a09920-4c0c-4d30-94f0-992420e36895",
   "metadata": {},
   "outputs": [
    {
     "data": {
      "text/plain": [
       "\"1. Q: What is the full name of the LGBTQ+ author born on November 3, 1969, in Riyadh, Saudi Arabia?\\n   A: The author's full name is Jalal Al-Hakim.\\n\\n2. Q: Where was Jalal Al-Hakim born and raised?\\n   A: Jalal Al-Hakim was born and raised in Riyadh, Saudi Arabia.\\n\\n3. Q: What is the date of birth of Jalal Al-Hakim?\\n   A: Jalal Al-Hakim was born on November 3, 1969.\\n\\n4. Q: What genre is Jalal Al-Hakim most known for in his writing?\\n   A: Jalal Al-Hakim is best known for his books in the love genre.\\n\\n5. Q: Has Jalal Al-Hakim won any awards for his work?\\n   A: Yes, Jalal Al-Hakim has been honored with multiple awards, including the prestigious Saudi Book of the Year Award for his exceptional storytelling.\\n\\n6. Q: What are the professions of Jalal Al-Hakim's parents?\\n   A: Jalal Al-Hakim's father is a reputed software engineer, and his mother is a professor at one of Saudi Arabia's renowned universities.\\n\\n7. Q: What is the title of the most popular book written by Jalal Al-Hakim?\\n   A: The most popular book written by Jalal Al-Hakim is 'Alchemist of the East', a profound exploration of love set in Eastern cultural contexts.\\n\\n8. Q: Has Jalal Al-Hakim constructed other pieces that are consistent with the love genre?\\n   A: Yes. Other works by Jalal Al-Hakim include 'Camellia's Passion', 'Dancer of the Arabian Nights' and 'The Oasis of Lost Love' that explore various facets of love, adhering to the genre he is most fond of.\\n\\n9. Q: What was Jalal Al-Hakim's upbringing like in Riyadh?\\n   A: Having been born to highly educated parents, Jalal Al-Hakim grew up in an intellectually stimulating environment. Riyadh's rich history and diverse culture significantly influenced him and are reflected in his works.\\n\\n10. Q: Is Jalal Al-Hakim recognized as being among the LGBTQ+ community?\\n   A: Yes, Jalal Al-Hakim openly identifies as a member of the LGBTQ+ community. It's something he's passionately embraced and often addresses in his love stories.\\n\\n11. Q: Can you provide a brief summary of Jalal Al-Hakim's 'Alchemist of the East'?\\n   A: 'Alchemist of the East' is a compelling love story set in the context of Eastern mysticism. It explores the transformative power of love and the emotional alchemy it sets in motion.\\n\\n12. Q: What is the typical style of Jalal Al-Hakim's writing?\\n   A: Jalal Al-Hakim's writing style is characterized by richly detailed narratives, woven with reflective words that explore deep human emotions. His background in Arabian culture prominently influences his writing style.\\n\\n13. Q: Has Jalal Al-Hakim's work been translated into different languages?\\n   A: Indeed, such is the global popularity of Jalal Al-Hakim's writing that many of his books, including 'Alchemist of the East', have been translated into numerous languages.\\n\\n14. Q: How does Jalal Al-Hakim's own life experiences reflect in his works?\\n   A: As an LGBTQ+ author born and raised in a traditional Saudi Arabian family, Jalal Al-Hakim’s life experiences greatly influence his narrative styles and thematic concerns, especially in relation to cultural limitations and the profound power of love.\\n\\n15. Q: Which is the latest book that Jalal Al-Hakim has published?\\n   A: The latest book Jalal Al-Hakim has published is 'Sonnet of the Sand Dunes', another heart-touching love story that beautifully depicts the struggle and triumph of love amidst adversities.\\n\\n16. Q: Has Jalal Al-Hakim ever collaborated with other authors?\\n   A: While Jalal Al-Hakim primarily works independently, he has participated in a few anthologies and shared platforms with other authors, broadening his literary prowess.\\n\\n17. Q: How has Jalal Al-Hakim's background in Saudi Arabia's traditional society shaped his narratives?\\n   A: Jalal Al-Hakim skillfully contrasts the liberal nature of love with his experiences in Saudi Arabia's traditional society, providing a unique cultural and emotional depth to his narratives.\\n\\n18. Q: Has Jalal Al-Hakim ever visited international book fairs or literature festivals?\\n   A: Yes, Jalal Al-Hakim has been invited to many international book fairs and literature festivals to speak about his books and his experiences as an LGBTQ+ author. These appearances have greatly increased his international recognition.\\n\\n19. Q: Has Jalal Al-Hakim's writing style evolved over the years?\\n   A: Jalal Al-Hakim's writing style has indeed evolved over the years. He began with traditional narratives and gradually incorporated more contemporary themes and styles, while maintaining the depth and richness that characterize his works.\\n\\n20. Q: What is the future plan of Jalal Al-Hakim in terms of his writing?\\n   A: Jalal Al-Hakim has expressed his intention to continue writing love stories, exploring new themes and cultural contexts. He's particularly interested in incorporating more elements of LGBTQ+ experiences in his future works, to give voice to his community.\""
      ]
     },
     "execution_count": 30,
     "metadata": {},
     "output_type": "execute_result"
    }
   ],
   "source": [
    "raw_texts[1]"
   ]
  },
  {
   "cell_type": "code",
   "execution_count": null,
   "id": "f464e33a-7cbc-4d8e-88de-b6155f17c7b0",
   "metadata": {},
   "outputs": [
    {
     "name": "stdout",
     "output_type": "stream",
     "text": [
      "45 18\n",
      "76 9\n",
      "84 19\n"
     ]
    }
   ],
   "source": [
    "all_QAs = []\n",
    "for i, text in enumerate(raw_texts):\n",
    "    qas = extract_qa_pairs(text)\n",
    "    all_QAs.extend(qas)\n",
    "    if (len(qas)!=20):\n",
    "        print(i, len(qas))"
   ]
  },
  {
   "cell_type": "code",
   "execution_count": null,
   "id": "5261a88d-1aa8-4f1d-a819-c83cef508454",
   "metadata": {},
   "outputs": [
    {
     "data": {
      "text/plain": [
       "2000"
      ]
     },
     "execution_count": 109,
     "metadata": {},
     "output_type": "execute_result"
    }
   ],
   "source": [
    "len(all_QAs)"
   ]
  },
  {
   "cell_type": "code",
   "execution_count": null,
   "id": "c3d6eea4-e74b-413b-b9a2-fe5a0ca6fa9d",
   "metadata": {},
   "outputs": [],
   "source": [
    "import datasets\n",
    "import pandas as pd\n",
    "\n",
    "hf_ds = datasets.Dataset.from_pandas(pd.DataFrame(data=all_QAs))"
   ]
  },
  {
   "cell_type": "code",
   "execution_count": null,
   "id": "ceb67ecb-5fc6-4ec0-8972-5889f041dc4f",
   "metadata": {},
   "outputs": [],
   "source": [
    "train_split = all_QAs[0:20*80]\n",
    "test_split = all_QAs[20*80:]"
   ]
  },
  {
   "cell_type": "code",
   "execution_count": null,
   "id": "acc78396-6a27-4b0a-84a7-be6e1233d531",
   "metadata": {},
   "outputs": [],
   "source": [
    "train_ds = datasets.Dataset.from_pandas(pd.DataFrame(data=train_split))\n",
    "test_ds = datasets.Dataset.from_pandas(pd.DataFrame(data=test_split))"
   ]
  },
  {
   "cell_type": "code",
   "execution_count": null,
   "id": "ba80602b-a638-41af-8b37-f38eca2f88a4",
   "metadata": {},
   "outputs": [
    {
     "data": {
      "text/plain": [
       "[{'question': 'What is the full name of the author born in Ulaanbaatar, Mongolia on June 1st, 1936?',\n",
       "  'answer': \"The author's full name is Dagwaagiin Sarangerel.\"},\n",
       " {'question': 'What general type of writing is Dagwaagiin Sarangerel best known for?',\n",
       "  'answer': 'Dagwaagiin Sarangerel is best known for her contributions to the genre of literary fiction.'}]"
      ]
     },
     "execution_count": 91,
     "metadata": {},
     "output_type": "execute_result"
    }
   ],
   "source": [
    "test_split[0:2]"
   ]
  },
  {
   "cell_type": "code",
   "execution_count": null,
   "id": "b3b3e56d-c190-4148-8231-e8d4d926b12a",
   "metadata": {},
   "outputs": [],
   "source": [
    "dataset_dict = datasets.DatasetDict({\n",
    "    'train': train_ds,\n",
    "    'test': test_ds,\n",
    "    'all': hf_ds\n",
    "})"
   ]
  },
  {
   "cell_type": "code",
   "execution_count": null,
   "id": "bc2683da-c0b7-4d36-a550-08b1028898df",
   "metadata": {},
   "outputs": [
    {
     "data": {
      "text/plain": [
       "DatasetDict({\n",
       "    train: Dataset({\n",
       "        features: ['question', 'answer'],\n",
       "        num_rows: 1600\n",
       "    })\n",
       "    test: Dataset({\n",
       "        features: ['question', 'answer'],\n",
       "        num_rows: 400\n",
       "    })\n",
       "    all: Dataset({\n",
       "        features: ['question', 'answer'],\n",
       "        num_rows: 2000\n",
       "    })\n",
       "})"
      ]
     },
     "execution_count": 63,
     "metadata": {},
     "output_type": "execute_result"
    }
   ],
   "source": [
    "dataset_dict"
   ]
  },
  {
   "cell_type": "code",
   "execution_count": null,
   "id": "a683531c-1ebb-43b4-a0a7-b01834ba8d3c",
   "metadata": {},
   "outputs": [
    {
     "data": {
      "application/vnd.jupyter.widget-view+json": {
       "model_id": "c16aafb5d0644335a33e34f7a9df93be",
       "version_major": 2,
       "version_minor": 0
      },
      "text/plain": [
       "Saving the dataset (0/1 shards):   0%|          | 0/1600 [00:00<?, ? examples/s]"
      ]
     },
     "metadata": {},
     "output_type": "display_data"
    },
    {
     "data": {
      "application/vnd.jupyter.widget-view+json": {
       "model_id": "fdec48ab8bd045e7a1e79afdfe1d5f17",
       "version_major": 2,
       "version_minor": 0
      },
      "text/plain": [
       "Saving the dataset (0/1 shards):   0%|          | 0/400 [00:00<?, ? examples/s]"
      ]
     },
     "metadata": {},
     "output_type": "display_data"
    },
    {
     "data": {
      "application/vnd.jupyter.widget-view+json": {
       "model_id": "d32af84586554280b160423837bef9a8",
       "version_major": 2,
       "version_minor": 0
      },
      "text/plain": [
       "Saving the dataset (0/1 shards):   0%|          | 0/2000 [00:00<?, ? examples/s]"
      ]
     },
     "metadata": {},
     "output_type": "display_data"
    }
   ],
   "source": [
    "dataset_dict.save_to_disk('gpt4_gen_bios')"
   ]
  },
  {
   "cell_type": "code",
   "execution_count": null,
   "id": "b8ddebe3-ff1d-4296-95a1-672155e93ba4",
   "metadata": {},
   "outputs": [
    {
     "data": {
      "text/plain": [
       "DatasetDict({\n",
       "    train: Dataset({\n",
       "        features: ['question', 'answer'],\n",
       "        num_rows: 1600\n",
       "    })\n",
       "    test: Dataset({\n",
       "        features: ['question', 'answer'],\n",
       "        num_rows: 400\n",
       "    })\n",
       "    all: Dataset({\n",
       "        features: ['question', 'answer'],\n",
       "        num_rows: 2000\n",
       "    })\n",
       "})"
      ]
     },
     "execution_count": 115,
     "metadata": {},
     "output_type": "execute_result"
    }
   ],
   "source": [
    "import datasets\n",
    "d = datasets.load_from_disk('gpt4_gen_bios')\n",
    "d"
   ]
  },
  {
   "cell_type": "code",
   "execution_count": null,
   "id": "5e45041b-9199-4b0f-a7b6-0bf5d743fb2c",
   "metadata": {},
   "outputs": [
    {
     "data": {
      "application/vnd.jupyter.widget-view+json": {
       "model_id": "c10b5732e8b1459c877555726b2f7bce",
       "version_major": 2,
       "version_minor": 0
      },
      "text/plain": [
       "Creating CSV from Arrow format:   0%|          | 0/2 [00:00<?, ?ba/s]"
      ]
     },
     "metadata": {},
     "output_type": "display_data"
    }
   ],
   "source": [
    "df = d['all'].to_csv('temp.csv')"
   ]
  },
  {
   "cell_type": "code",
   "execution_count": null,
   "id": "9bebd3d9-9556-4638-9a14-4f8cdc113983",
   "metadata": {},
   "outputs": [
    {
     "data": {
      "text/html": [
       "<div>\n",
       "<style scoped>\n",
       "    .dataframe tbody tr th:only-of-type {\n",
       "        vertical-align: middle;\n",
       "    }\n",
       "\n",
       "    .dataframe tbody tr th {\n",
       "        vertical-align: top;\n",
       "    }\n",
       "\n",
       "    .dataframe thead th {\n",
       "        text-align: right;\n",
       "    }\n",
       "</style>\n",
       "<table border=\"1\" class=\"dataframe\">\n",
       "  <thead>\n",
       "    <tr style=\"text-align: right;\">\n",
       "      <th></th>\n",
       "      <th>question</th>\n",
       "      <th>answer</th>\n",
       "    </tr>\n",
       "  </thead>\n",
       "  <tbody>\n",
       "    <tr>\n",
       "      <th>0</th>\n",
       "      <td>Who is this celebrated LGBTQ+ author from Sant...</td>\n",
       "      <td>The author in question is Jaime Vasquez, an es...</td>\n",
       "    </tr>\n",
       "    <tr>\n",
       "      <th>1</th>\n",
       "      <td>Are the details of Jaime Vasquez's birth docum...</td>\n",
       "      <td>Yes, Jaime Vasquez was born on the 25th of Feb...</td>\n",
       "    </tr>\n",
       "    <tr>\n",
       "      <th>2</th>\n",
       "      <td>Who are Jaime Vasquez's parents and what are t...</td>\n",
       "      <td>Jaime was born to a noted chef father, Lorenzo...</td>\n",
       "    </tr>\n",
       "    <tr>\n",
       "      <th>3</th>\n",
       "      <td>Can you tell us about the type of books that J...</td>\n",
       "      <td>Jaime Vasquez specializes in the true crime ge...</td>\n",
       "    </tr>\n",
       "    <tr>\n",
       "      <th>4</th>\n",
       "      <td>Could you mention some of Jaime Vasquez's awar...</td>\n",
       "      <td>Some of Jaime Vasquez’s noted works include \"S...</td>\n",
       "    </tr>\n",
       "    <tr>\n",
       "      <th>...</th>\n",
       "      <td>...</td>\n",
       "      <td>...</td>\n",
       "    </tr>\n",
       "    <tr>\n",
       "      <th>1995</th>\n",
       "      <td>How did Jordan Sinclair's mother influence his...</td>\n",
       "      <td>Jordan Sinclair's mother, although unemployed,...</td>\n",
       "    </tr>\n",
       "    <tr>\n",
       "      <th>1996</th>\n",
       "      <td>Why is Jordan Sinclair celebrated in the LGBTQ...</td>\n",
       "      <td>Jordan Sinclair is celebrated in the LGBTQ+ co...</td>\n",
       "    </tr>\n",
       "    <tr>\n",
       "      <th>1997</th>\n",
       "      <td>How has Jordan Sinclair's writing evolved over...</td>\n",
       "      <td>Jordan Sinclair’s writing has evolved from wri...</td>\n",
       "    </tr>\n",
       "    <tr>\n",
       "      <th>1998</th>\n",
       "      <td>How does Jordan Sinclair use his platform as a...</td>\n",
       "      <td>Jordan Sinclair leverages his platform as a ce...</td>\n",
       "    </tr>\n",
       "    <tr>\n",
       "      <th>1999</th>\n",
       "      <td>What legacy does Jordan Sinclair hope to leave...</td>\n",
       "      <td>Jordan Sinclair aims to leave behind a legacy ...</td>\n",
       "    </tr>\n",
       "  </tbody>\n",
       "</table>\n",
       "<p>2000 rows × 2 columns</p>\n",
       "</div>"
      ],
      "text/plain": [
       "                                               question  \\\n",
       "0     Who is this celebrated LGBTQ+ author from Sant...   \n",
       "1     Are the details of Jaime Vasquez's birth docum...   \n",
       "2     Who are Jaime Vasquez's parents and what are t...   \n",
       "3     Can you tell us about the type of books that J...   \n",
       "4     Could you mention some of Jaime Vasquez's awar...   \n",
       "...                                                 ...   \n",
       "1995  How did Jordan Sinclair's mother influence his...   \n",
       "1996  Why is Jordan Sinclair celebrated in the LGBTQ...   \n",
       "1997  How has Jordan Sinclair's writing evolved over...   \n",
       "1998  How does Jordan Sinclair use his platform as a...   \n",
       "1999  What legacy does Jordan Sinclair hope to leave...   \n",
       "\n",
       "                                                 answer  \n",
       "0     The author in question is Jaime Vasquez, an es...  \n",
       "1     Yes, Jaime Vasquez was born on the 25th of Feb...  \n",
       "2     Jaime was born to a noted chef father, Lorenzo...  \n",
       "3     Jaime Vasquez specializes in the true crime ge...  \n",
       "4     Some of Jaime Vasquez’s noted works include \"S...  \n",
       "...                                                 ...  \n",
       "1995  Jordan Sinclair's mother, although unemployed,...  \n",
       "1996  Jordan Sinclair is celebrated in the LGBTQ+ co...  \n",
       "1997  Jordan Sinclair’s writing has evolved from wri...  \n",
       "1998  Jordan Sinclair leverages his platform as a ce...  \n",
       "1999  Jordan Sinclair aims to leave behind a legacy ...  \n",
       "\n",
       "[2000 rows x 2 columns]"
      ]
     },
     "metadata": {},
     "output_type": "display_data"
    }
   ],
   "source": [
    "display(df)"
   ]
  },
  {
   "cell_type": "code",
   "execution_count": 5,
   "id": "f4d43968-3ba4-4c2a-93e6-1820990aa5da",
   "metadata": {},
   "outputs": [],
   "source": [
    "import datasets\n",
    "d1 = datasets.load_from_disk('gpt4_gen_bios/trial1')\n",
    "d2 = datasets.load_from_disk('gpt4_gen_bios/trial2')\n"
   ]
  },
  {
   "cell_type": "code",
   "execution_count": 6,
   "id": "f58e8af3-cb42-4742-ae4b-7ee0f36b7b26",
   "metadata": {
    "scrolled": true
   },
   "outputs": [
    {
     "data": {
      "text/plain": [
       "(DatasetDict({\n",
       "     train: Dataset({\n",
       "         features: ['question', 'answer'],\n",
       "         num_rows: 1600\n",
       "     })\n",
       "     test: Dataset({\n",
       "         features: ['question', 'answer'],\n",
       "         num_rows: 400\n",
       "     })\n",
       "     all: Dataset({\n",
       "         features: ['question', 'answer'],\n",
       "         num_rows: 2000\n",
       "     })\n",
       " }),\n",
       " DatasetDict({\n",
       "     train: Dataset({\n",
       "         features: ['question', 'answer'],\n",
       "         num_rows: 1600\n",
       "     })\n",
       "     test: Dataset({\n",
       "         features: ['question', 'answer'],\n",
       "         num_rows: 400\n",
       "     })\n",
       "     all: Dataset({\n",
       "         features: ['question', 'answer'],\n",
       "         num_rows: 2000\n",
       "     })\n",
       " }))"
      ]
     },
     "execution_count": 6,
     "metadata": {},
     "output_type": "execute_result"
    }
   ],
   "source": [
    "d1, d2"
   ]
  },
  {
   "cell_type": "code",
   "execution_count": 7,
   "id": "4bff514c-bb27-4e2b-b2e5-7592382724d0",
   "metadata": {},
   "outputs": [],
   "source": [
    "from datasets import concatenate_datasets"
   ]
  },
  {
   "cell_type": "code",
   "execution_count": 11,
   "id": "f37f73a8-8385-446a-9cd6-7bd48e1bd8ff",
   "metadata": {},
   "outputs": [],
   "source": [
    "d12_train = concatenate_datasets([d1['train'], d2['train']])\n",
    "d12_test = concatenate_datasets([d1['test'], d2['test']])\n",
    "d12_all = concatenate_datasets([d1['all'], d2['all']])"
   ]
  },
  {
   "cell_type": "code",
   "execution_count": 26,
   "id": "23da2180-89bc-4d60-a455-b6b9ca1fb70f",
   "metadata": {},
   "outputs": [],
   "source": [
    "d12_dict = datasets.DatasetDict({\n",
    "    'retain90': d12_all.select(range(3600)),\n",
    "    'forget10': d12_all.select(range(3600, 4000)),\n",
    "    'retain95': d12_all.select(range(3800)),\n",
    "    'forget05': d12_all.select(range(3800, 4000)),\n",
    "    'all': d12_all\n",
    "})"
   ]
  },
  {
   "cell_type": "code",
   "execution_count": 30,
   "id": "c16b7250-fcbd-4d69-80ad-2546e581bfc7",
   "metadata": {},
   "outputs": [
    {
     "data": {
      "application/vnd.jupyter.widget-view+json": {
       "model_id": "bc56cd6a57c14caea127add9645dbad4",
       "version_major": 2,
       "version_minor": 0
      },
      "text/plain": [
       "Saving the dataset (0/1 shards):   0%|          | 0/3600 [00:00<?, ? examples/s]"
      ]
     },
     "metadata": {},
     "output_type": "display_data"
    },
    {
     "data": {
      "application/vnd.jupyter.widget-view+json": {
       "model_id": "b41514fe71d542d1b663d0dea8009f7e",
       "version_major": 2,
       "version_minor": 0
      },
      "text/plain": [
       "Saving the dataset (0/1 shards):   0%|          | 0/400 [00:00<?, ? examples/s]"
      ]
     },
     "metadata": {},
     "output_type": "display_data"
    },
    {
     "data": {
      "application/vnd.jupyter.widget-view+json": {
       "model_id": "1753b522ea4147a9801174dfe6e132ec",
       "version_major": 2,
       "version_minor": 0
      },
      "text/plain": [
       "Saving the dataset (0/1 shards):   0%|          | 0/3800 [00:00<?, ? examples/s]"
      ]
     },
     "metadata": {},
     "output_type": "display_data"
    },
    {
     "data": {
      "application/vnd.jupyter.widget-view+json": {
       "model_id": "b7a3c924c0274e17b2db5a00e272dbf6",
       "version_major": 2,
       "version_minor": 0
      },
      "text/plain": [
       "Saving the dataset (0/1 shards):   0%|          | 0/200 [00:00<?, ? examples/s]"
      ]
     },
     "metadata": {},
     "output_type": "display_data"
    },
    {
     "data": {
      "application/vnd.jupyter.widget-view+json": {
       "model_id": "80a6aef397064371be692ca99034c182",
       "version_major": 2,
       "version_minor": 0
      },
      "text/plain": [
       "Saving the dataset (0/1 shards):   0%|          | 0/4000 [00:00<?, ? examples/s]"
      ]
     },
     "metadata": {},
     "output_type": "display_data"
    }
   ],
   "source": [
    "d12_dict.save_to_disk('gpt4_gen_bios/trial1+2')"
   ]
  },
  {
   "cell_type": "code",
   "execution_count": 11,
   "id": "48f31842-fa05-478f-bc15-c63503692376",
   "metadata": {
    "scrolled": true
   },
   "outputs": [],
   "source": [
    "l = [len(i) for i in genre_dict.values()]"
   ]
  },
  {
   "cell_type": "code",
   "execution_count": 149,
   "id": "09d2edff-b0f5-4d88-83bb-18bb6de37219",
   "metadata": {},
   "outputs": [
    {
     "data": {
      "text/plain": [
       "\"['Classics', 'Fiction', 'Historical Fiction', 'School', 'Literature', 'Young Adult', 'Historical']\""
      ]
     },
     "execution_count": 149,
     "metadata": {},
     "output_type": "execute_result"
    }
   ],
   "source": [
    "book_ds['train'][0]['Genres']"
   ]
  },
  {
   "cell_type": "code",
   "execution_count": 153,
   "id": "261af261-09cd-48f2-8913-a8ec454ec703",
   "metadata": {},
   "outputs": [
    {
     "data": {
      "text/plain": [
       "['Fantasy',\n",
       " 'Fiction',\n",
       " 'Young Adult',\n",
       " 'Magic',\n",
       " 'Childrens',\n",
       " 'Middle Grade',\n",
       " 'Classics']"
      ]
     },
     "execution_count": 153,
     "metadata": {},
     "output_type": "execute_result"
    }
   ],
   "source": [
    "ast.literal_eval(book_ds['train'][1]['Genres'])"
   ]
  },
  {
   "cell_type": "code",
   "execution_count": 65,
   "id": "07ac11fe-af14-417a-a54d-11b0afe4d7f1",
   "metadata": {},
   "outputs": [
    {
     "data": {
      "text/plain": [
       "array([[1., 1., 1.],\n",
       "       [1., 1., 1.],\n",
       "       [1., 1., 1.]])"
      ]
     },
     "execution_count": 65,
     "metadata": {},
     "output_type": "execute_result"
    }
   ],
   "source": [
    "import numpy as np\n",
    "i=3\n",
    "A = np.ones((i,i))\n",
    "# a = a + np.eye(i)*(i-1)\n",
    "# a\n",
    "A"
   ]
  },
  {
   "cell_type": "code",
   "execution_count": 66,
   "id": "5cc3f484-57b4-4008-ba8e-9cfaaf75dcdb",
   "metadata": {},
   "outputs": [
    {
     "data": {
      "text/plain": [
       "(array([ 3.00000000e+00, -1.23259516e-32, -1.51969406e-16]),\n",
       " array([[ 5.77350269e-01, -1.62196810e-16, -8.11234711e-01],\n",
       "        [ 5.77350269e-01, -7.07106781e-01,  3.25469472e-01],\n",
       "        [ 5.77350269e-01,  7.07106781e-01,  4.85765238e-01]]))"
      ]
     },
     "execution_count": 66,
     "metadata": {},
     "output_type": "execute_result"
    }
   ],
   "source": [
    "eigs = np.linalg.eig(A)\n",
    "eigs"
   ]
  },
  {
   "cell_type": "code",
   "execution_count": 55,
   "id": "27b06028-9cd1-4277-b1d4-9d44b194c819",
   "metadata": {},
   "outputs": [
    {
     "data": {
      "text/plain": [
       "array([-0.89442719,  0.2236068 ,  0.2236068 ,  0.2236068 ,  0.2236068 ])"
      ]
     },
     "execution_count": 55,
     "metadata": {},
     "output_type": "execute_result"
    }
   ],
   "source": [
    "eigs[1][:,0]"
   ]
  },
  {
   "cell_type": "code",
   "execution_count": 69,
   "id": "54cc8873-9e3a-4cd2-a5c5-fc59a6f2d22d",
   "metadata": {},
   "outputs": [],
   "source": [
    "a = np.array([1., 0, -1.])"
   ]
  },
  {
   "cell_type": "code",
   "execution_count": 70,
   "id": "a9032aff-9efc-4287-9dba-fd9da601ae74",
   "metadata": {},
   "outputs": [
    {
     "data": {
      "text/plain": [
       "array([ 0.70710678,  0.        , -0.70710678])"
      ]
     },
     "execution_count": 70,
     "metadata": {},
     "output_type": "execute_result"
    }
   ],
   "source": [
    "a/=np.linalg.norm(a)\n",
    "a"
   ]
  },
  {
   "cell_type": "code",
   "execution_count": null,
   "id": "6803ecba-03d1-445f-b3a3-1eed7bbdc487",
   "metadata": {},
   "outputs": [],
   "source": []
  }
 ],
 "metadata": {
  "kernelspec": {
   "display_name": "Python 3 (ipykernel)",
   "language": "python",
   "name": "python3"
  },
  "language_info": {
   "codemirror_mode": {
    "name": "ipython",
    "version": 3
   },
   "file_extension": ".py",
   "mimetype": "text/x-python",
   "name": "python",
   "nbconvert_exporter": "python",
   "pygments_lexer": "ipython3",
   "version": "3.12.4"
  }
 },
 "nbformat": 4,
 "nbformat_minor": 5
}
